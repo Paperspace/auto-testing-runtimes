{
 "cells": [
  {
   "cell_type": "markdown",
   "id": "9a9eea94-04d9-453a-a9a4-d9bfa3911c0a",
   "metadata": {},
   "source": [
    "# Generic notebook testing\n",
    "Applicable to the base image. Some items may fail on images other than the base."
   ]
  },
  {
   "cell_type": "markdown",
   "id": "6323c06e-91e8-4ca9-8c4d-466e8f915085",
   "metadata": {},
   "source": [
    "## Python\n",
    "\n",
    "Python in Jupyter is same as terminal"
   ]
  },
  {
   "cell_type": "code",
   "execution_count": 1,
   "id": "9e0a083b-fc05-4136-bf44-c0d973e3b104",
   "metadata": {
    "execution": {
     "iopub.execute_input": "2022-08-24T21:47:36.402391Z",
     "iopub.status.busy": "2022-08-24T21:47:36.402072Z",
     "iopub.status.idle": "2022-08-24T21:47:36.412749Z",
     "shell.execute_reply": "2022-08-24T21:47:36.412021Z"
    }
   },
   "outputs": [
    {
     "name": "stdout",
     "output_type": "stream",
     "text": [
      "3.9.13 (main, May 23 2022, 22:01:06) \n",
      "[GCC 9.4.0]\n",
      "/usr/local/bin/python3\n"
     ]
    }
   ],
   "source": [
    "import sys\n",
    "print(sys.version)\n",
    "print(sys.executable)"
   ]
  },
  {
   "cell_type": "markdown",
   "id": "9b0745d3-4203-479f-ab4b-e64c7c2571b7",
   "metadata": {},
   "source": [
    "## PyTorch\n",
    "Basic + GPU"
   ]
  },
  {
   "cell_type": "code",
   "execution_count": 2,
   "id": "4b809613-3fb4-4cd9-98f6-3037c9fd1ddd",
   "metadata": {
    "execution": {
     "iopub.execute_input": "2022-08-24T21:47:36.416349Z",
     "iopub.status.busy": "2022-08-24T21:47:36.416090Z",
     "iopub.status.idle": "2022-08-24T21:47:37.244573Z",
     "shell.execute_reply": "2022-08-24T21:47:37.243892Z"
    }
   },
   "outputs": [
    {
     "name": "stdout",
     "output_type": "stream",
     "text": [
      "1.12.0+cu116\n",
      "True\n",
      "1\n",
      "0\n",
      "Quadro P5000\n"
     ]
    }
   ],
   "source": [
    "import torch\n",
    "\n",
    "print(torch.__version__)\n",
    "\n",
    "# GPU/CUDA\n",
    "\n",
    "print(torch.cuda.is_available()) # Should print True on GPU machine\n",
    "print(torch.cuda.device_count()) # E.g., 1 for 1 GPU\n",
    "print(torch.cuda.current_device()) # E.g., 0\n",
    "print(torch.cuda.get_device_name()) # E.g., 'NVIDIA Quadro P4000'"
   ]
  },
  {
   "cell_type": "markdown",
   "id": "7445b6ee-c452-4228-aa06-df209a97f0bf",
   "metadata": {},
   "source": [
    "Torch audio & vision"
   ]
  },
  {
   "cell_type": "code",
   "execution_count": 3,
   "id": "63b38961-f180-44e3-9bca-2bc7ce7f3c0c",
   "metadata": {
    "execution": {
     "iopub.execute_input": "2022-08-24T21:47:37.248899Z",
     "iopub.status.busy": "2022-08-24T21:47:37.247870Z",
     "iopub.status.idle": "2022-08-24T21:47:37.612253Z",
     "shell.execute_reply": "2022-08-24T21:47:37.611476Z"
    }
   },
   "outputs": [
    {
     "name": "stdout",
     "output_type": "stream",
     "text": [
      "0.13.0+cu116\n",
      "0.12.0+cu116\n"
     ]
    }
   ],
   "source": [
    "import torchvision\n",
    "import torchaudio\n",
    "\n",
    "print(torchvision.__version__)\n",
    "print(torchaudio.__version__)"
   ]
  },
  {
   "cell_type": "markdown",
   "id": "1e6eae3d-a93a-41a4-b1d0-5d28733735d5",
   "metadata": {},
   "source": [
    "## TensorFlow 2"
   ]
  },
  {
   "cell_type": "code",
   "execution_count": 5,
   "id": "4d910d68-9eff-4769-a12b-36b8eb5fae32",
   "metadata": {
    "execution": {
     "iopub.execute_input": "2022-08-24T21:47:37.623143Z",
     "iopub.status.busy": "2022-08-24T21:47:37.622456Z",
     "iopub.status.idle": "2022-08-24T21:47:43.767461Z",
     "shell.execute_reply": "2022-08-24T21:47:43.766637Z"
    }
   },
   "outputs": [
    {
     "name": "stdout",
     "output_type": "stream",
     "text": [
      "tf.Tensor(197.1867, shape=(), dtype=float32)\n"
     ]
    },
    {
     "data": {
      "text/plain": [
       "[PhysicalDevice(name='/physical_device:GPU:0', device_type='GPU')]"
      ]
     },
     "execution_count": 5,
     "metadata": {},
     "output_type": "execute_result"
    }
   ],
   "source": [
    "import tensorflow as tf\n",
    "\n",
    "# Working with CPU\n",
    "# (From https://www.tensorflow.org/install/pip)\n",
    "\n",
    "print(tf.reduce_sum(tf.random.normal([1000, 1000])))\n",
    "\n",
    "# Sees GPU(s)\n",
    "\n",
    "tf.config.list_physical_devices('GPU')"
   ]
  }
 ],
 "metadata": {
  "kernelspec": {
   "display_name": "Python 3 (ipykernel)",
   "language": "python",
   "name": "python3"
  },
  "language_info": {
   "codemirror_mode": {
    "name": "ipython",
    "version": 3
   },
   "file_extension": ".py",
   "mimetype": "text/x-python",
   "name": "python",
   "nbconvert_exporter": "python",
   "pygments_lexer": "ipython3",
   "version": "3.9.13"
  }
 },
 "nbformat": 4,
 "nbformat_minor": 5
}
