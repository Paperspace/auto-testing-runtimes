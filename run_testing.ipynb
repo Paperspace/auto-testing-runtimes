{
 "cells": [
  {
   "cell_type": "markdown",
   "id": "9a9eea94-04d9-453a-a9a4-d9bfa3911c0a",
   "metadata": {},
   "source": [
    "# Generic notebook testing\n",
    "Last updated: Sep 22nd 2022\n",
    "\n",
    "Applicable to the base image. Some items may fail on images other than the base."
   ]
  },
  {
   "cell_type": "markdown",
   "id": "6323c06e-91e8-4ca9-8c4d-466e8f915085",
   "metadata": {},
   "source": [
    "## Python Versions\n",
    "\n",
    "Python in Jupyter is same as terminal"
   ]
  },
  {
   "cell_type": "code",
   "execution_count": null,
   "id": "9e0a083b-fc05-4136-bf44-c0d973e3b104",
   "metadata": {},
   "outputs": [],
   "source": [
    "import sys\n",
    "print(sys.version)\n",
    "print(sys.executable)"
   ]
  },
  {
   "cell_type": "markdown",
   "id": "9b0745d3-4203-479f-ab4b-e64c7c2571b7",
   "metadata": {},
   "source": [
    "## PyTorch\n",
    "Basic + GPU"
   ]
  },
  {
   "cell_type": "code",
   "execution_count": null,
   "id": "4b809613-3fb4-4cd9-98f6-3037c9fd1ddd",
   "metadata": {},
   "outputs": [],
   "source": [
    "import torch\n",
    "\n",
    "print(torch.__version__)\n",
    "\n",
    "# GPU/CUDA\n",
    "\n",
    "print(torch.cuda.is_available()) # Should print True on GPU machine\n",
    "print(torch.version.cuda) # Should print a version\n",
    "print(torch.cuda.device_count()) # E.g., 1 for 1 GPU\n",
    "print(torch.cuda.current_device()) # E.g., 0\n",
    "print(torch.cuda.get_device_name()) # E.g., 'NVIDIA Quadro P4000'"
   ]
  },
  {
   "cell_type": "markdown",
   "id": "7445b6ee-c452-4228-aa06-df209a97f0bf",
   "metadata": {},
   "source": [
    "Torch audio & vision"
   ]
  },
  {
   "cell_type": "code",
   "execution_count": null,
   "id": "63b38961-f180-44e3-9bca-2bc7ce7f3c0c",
   "metadata": {},
   "outputs": [],
   "source": [
    "import torchvision\n",
    "import torchaudio\n",
    "\n",
    "print(torchvision.__version__)\n",
    "print(torchaudio.__version__)"
   ]
  },
  {
   "cell_type": "markdown",
   "id": "1e6eae3d-a93a-41a4-b1d0-5d28733735d5",
   "metadata": {},
   "source": [
    "## TensorFlow 2"
   ]
  },
  {
   "cell_type": "code",
   "execution_count": null,
   "id": "4d910d68-9eff-4769-a12b-36b8eb5fae32",
   "metadata": {},
   "outputs": [],
   "source": [
    "import tensorflow as tf\n",
    "\n",
    "# Working with CPU\n",
    "# (From https://www.tensorflow.org/install/pip)\n",
    "\n",
    "print(tf.reduce_sum(tf.random.normal([1000, 1000])))\n",
    "\n",
    "# Sees GPU(s)\n",
    "\n",
    "tf.config.list_physical_devices('GPU')"
   ]
  },
  {
   "cell_type": "markdown",
   "id": "64c5560d-0aea-4201-ab58-4f5a603e0e60",
   "metadata": {},
   "source": [
    "## Python modules\n",
    "Separate cells so if any fail the rest still run"
   ]
  },
  {
   "cell_type": "code",
   "execution_count": null,
   "id": "d7962e72-0f00-4988-acf7-bb015fd18c6d",
   "metadata": {},
   "outputs": [],
   "source": [
    "import numpy"
   ]
  },
  {
   "cell_type": "code",
   "execution_count": null,
   "id": "4ea197e0-d7ac-4af6-ae45-9c06d0590cd2",
   "metadata": {},
   "outputs": [],
   "source": [
    "import scipy"
   ]
  },
  {
   "cell_type": "code",
   "execution_count": null,
   "id": "4594cf9e-289c-4f2a-ad7a-d82ddbd6c0c0",
   "metadata": {},
   "outputs": [],
   "source": [
    "import pandas"
   ]
  },
  {
   "cell_type": "code",
   "execution_count": null,
   "id": "ac5c678d-28b6-46fe-b884-c8b36fc7791d",
   "metadata": {},
   "outputs": [],
   "source": [
    "import cloudpickle"
   ]
  },
  {
   "cell_type": "code",
   "execution_count": null,
   "id": "2596951b-f44f-4e49-a543-b427d5320659",
   "metadata": {},
   "outputs": [],
   "source": [
    "import skimage # scikit-image"
   ]
  },
  {
   "cell_type": "code",
   "execution_count": null,
   "id": "36b502e0-771f-4918-b2d3-f7b043f088b7",
   "metadata": {},
   "outputs": [],
   "source": [
    "import sklearn # scikit-learn"
   ]
  },
  {
   "cell_type": "code",
   "execution_count": null,
   "id": "6f012db9-1aa4-4068-a9da-182551ae33b1",
   "metadata": {},
   "outputs": [],
   "source": [
    "import matplotlib"
   ]
  },
  {
   "cell_type": "code",
   "execution_count": null,
   "id": "3c859f51-676c-46c5-95cb-10af7de2fe74",
   "metadata": {},
   "outputs": [],
   "source": [
    "import ipykernel"
   ]
  },
  {
   "cell_type": "code",
   "execution_count": null,
   "id": "32e5a5e2-7a5f-4d53-80d7-2e0505d5183b",
   "metadata": {},
   "outputs": [],
   "source": [
    "import ipywidgets"
   ]
  },
  {
   "cell_type": "code",
   "execution_count": null,
   "id": "da1aebeb-b777-4a16-8dee-a8946c91e59a",
   "metadata": {},
   "outputs": [],
   "source": [
    "import cython #Cython"
   ]
  },
  {
   "cell_type": "code",
   "execution_count": null,
   "id": "c28266a6-6696-4250-9ec1-390927328365",
   "metadata": {},
   "outputs": [],
   "source": [
    "import tqdm"
   ]
  },
  {
   "cell_type": "code",
   "execution_count": null,
   "id": "83117441-82ee-4d24-aded-8f2a1393e5bb",
   "metadata": {},
   "outputs": [],
   "source": [
    "import gdown"
   ]
  },
  {
   "cell_type": "code",
   "execution_count": null,
   "id": "41633ae9-24cd-47d2-ba66-4a5000c121dc",
   "metadata": {},
   "outputs": [],
   "source": [
    "import xgboost"
   ]
  },
  {
   "cell_type": "code",
   "execution_count": null,
   "id": "8df126a9-e66a-4921-a268-b1932322bc3c",
   "metadata": {},
   "outputs": [],
   "source": [
    "import PIL #pillow"
   ]
  },
  {
   "cell_type": "code",
   "execution_count": null,
   "id": "d3f9023e-4f24-40df-8024-01b8710c2d0a",
   "metadata": {},
   "outputs": [],
   "source": [
    "import seaborn"
   ]
  },
  {
   "cell_type": "code",
   "execution_count": null,
   "id": "acb101aa-591a-4ccc-b512-999dedbd10b4",
   "metadata": {},
   "outputs": [],
   "source": [
    "import sqlalchemy # SQLALchemy"
   ]
  },
  {
   "cell_type": "code",
   "execution_count": null,
   "id": "227be332-cbf7-40fa-b527-221603116d11",
   "metadata": {},
   "outputs": [],
   "source": [
    "import spacy"
   ]
  },
  {
   "cell_type": "code",
   "execution_count": null,
   "id": "0e66e022-1d7d-4fee-99d0-eb6825b0e2fd",
   "metadata": {},
   "outputs": [],
   "source": [
    "import nltk"
   ]
  },
  {
   "cell_type": "code",
   "execution_count": null,
   "id": "acc4a990-06a7-47da-98ba-96951c361533",
   "metadata": {},
   "outputs": [],
   "source": [
    "import jsonify"
   ]
  },
  {
   "cell_type": "code",
   "execution_count": null,
   "id": "a9adb618-ae45-484d-8408-232513444d42",
   "metadata": {},
   "outputs": [],
   "source": [
    "import boto3"
   ]
  },
  {
   "cell_type": "code",
   "execution_count": null,
   "id": "96eeab0c-7258-4aeb-9e9f-275c7c833b19",
   "metadata": {},
   "outputs": [],
   "source": [
    "import transformers"
   ]
  },
  {
   "cell_type": "code",
   "execution_count": null,
   "id": "9c665679-4c51-4201-8e25-29d9bebcfe10",
   "metadata": {},
   "outputs": [],
   "source": [
    "import sentence_transformers # sentence-transformers"
   ]
  },
  {
   "cell_type": "code",
   "execution_count": null,
   "id": "0e6e6ee7-61f4-47f2-b2ae-f7fab03d0b2c",
   "metadata": {},
   "outputs": [],
   "source": [
    "import datasets"
   ]
  },
  {
   "cell_type": "code",
   "execution_count": null,
   "id": "0448cfb7-3322-4ed8-989f-61a88bdecf2a",
   "metadata": {},
   "outputs": [],
   "source": [
    "import cv2 # opencv-python"
   ]
  },
  {
   "cell_type": "code",
   "execution_count": null,
   "id": "d3c3e085-db29-4cb5-afc1-34b94f8bd56c",
   "metadata": {},
   "outputs": [],
   "source": [
    "import jax # JAX"
   ]
  },
  {
   "cell_type": "code",
   "execution_count": null,
   "id": "bd0200ba-39d3-4d9f-91f5-aa5777d60c88",
   "metadata": {},
   "outputs": [],
   "source": [
    "import gradient # Gradient will fail on partner containers that don't have it"
   ]
  }
 ],
 "metadata": {
  "kernelspec": {
   "display_name": "Python 3",
   "language": "python",
   "name": "python3"
  },
  "language_info": {
   "codemirror_mode": {
    "name": "ipython",
    "version": 3
   },
   "file_extension": ".py",
   "mimetype": "text/x-python",
   "name": "python",
   "nbconvert_exporter": "python",
   "pygments_lexer": "ipython3",
   "version": "3.8.8"
  }
 },
 "nbformat": 4,
 "nbformat_minor": 5
}
