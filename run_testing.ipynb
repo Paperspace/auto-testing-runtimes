{
 "cells": [
  {
   "cell_type": "markdown",
   "id": "9a9eea94-04d9-453a-a9a4-d9bfa3911c0a",
   "metadata": {},
   "source": [
    "Generic notebook testing"
   ]
  },
  {
   "cell_type": "code",
   "execution_count": null,
   "id": "9e0a083b-fc05-4136-bf44-c0d973e3b104",
   "metadata": {},
   "outputs": [],
   "source": [
    "import sys\n",
    "print(sys.version)\n",
    "print(sys.executable)"
   ]
  },
  {
   "cell_type": "code",
   "execution_count": null,
   "id": "fc7d4808-0654-4eb4-b404-3d2cf3971634",
   "metadata": {},
   "outputs": [],
   "source": [
    "# PyTorch on base image\n",
    "import torch\n",
    "import torchvision\n",
    "import torchaudio\n",
    "\n",
    "torch.__version__\n",
    "torchvision.__version__\n",
    "torchaudio.__version__\n",
    "\n",
    "torch.cuda.is_available() # Should print True on GPU machine\n",
    "\n",
    "torch.cuda.device_count() # E.g., 1 for 1 GPU\n",
    "torch.cuda.current_device() # E.g., 0\n",
    "torch.cuda.get_device_name() # E.g., 'NVIDIA Quadro P4000'"
   ]
  },
  {
   "cell_type": "code",
   "execution_count": null,
   "id": "4d910d68-9eff-4769-a12b-36b8eb5fae32",
   "metadata": {},
   "outputs": [],
   "source": [
    "# TensorFlow on base image\n",
    "import tensorflow as tf\n",
    "\n",
    "# Working with CPU\n",
    "# (From https://www.tensorflow.org/install/pip)\n",
    "print(tf.reduce_sum(tf.random.normal([1000, 1000])))\n",
    "\n",
    "# Sees GPU(s)\n",
    "tf.config.list_physical_devices('GPU')"
   ]
  }
 ],
 "metadata": {
  "kernelspec": {
   "display_name": "Python 3 (ipykernel)",
   "language": "python",
   "name": "python3"
  },
  "language_info": {
   "codemirror_mode": {
    "name": "ipython",
    "version": 3
   },
   "file_extension": ".py",
   "mimetype": "text/x-python",
   "name": "python",
   "nbconvert_exporter": "python",
   "pygments_lexer": "ipython3",
   "version": "3.9.13"
  }
 },
 "nbformat": 4,
 "nbformat_minor": 5
}
