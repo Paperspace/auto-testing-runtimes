{
 "cells": [
  {
   "cell_type": "markdown",
   "id": "9a9eea94-04d9-453a-a9a4-d9bfa3911c0a",
   "metadata": {},
   "source": [
    "Generic notebook testing"
   ]
  },
  {
   "cell_type": "code",
   "execution_count": null,
   "id": "504e6360-44aa-41bf-bc20-80070b630ed5",
   "metadata": {},
   "outputs": [],
   "source": [
    "import sys\n",
    "print(sys.version)\n",
    "print(sys.executable)"
   ]
  }
 ],
 "metadata": {
  "kernelspec": {
   "display_name": "Python 3 (ipykernel)",
   "language": "python",
   "name": "python3"
  },
  "language_info": {
   "codemirror_mode": {
    "name": "ipython",
    "version": 3
   },
   "file_extension": ".py",
   "mimetype": "text/x-python",
   "name": "python",
   "nbconvert_exporter": "python",
   "pygments_lexer": "ipython3",
   "version": "3.9.13"
  }
 },
 "nbformat": 4,
 "nbformat_minor": 5
}
