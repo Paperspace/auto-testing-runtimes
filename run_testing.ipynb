{
 "cells": [
  {
   "cell_type": "markdown",
   "id": "9a9eea94-04d9-453a-a9a4-d9bfa3911c0a",
   "metadata": {},
   "source": [
    "# Generic notebook testing\n",
    "Applicable to the base image. Some items may fail on images other than the base."
   ]
  },
  {
   "cell_type": "markdown",
   "id": "6323c06e-91e8-4ca9-8c4d-466e8f915085",
   "metadata": {},
   "source": [
    "## Python\n",
    "\n",
    "Python in Jupyter is same as terminal"
   ]
  },
  {
   "cell_type": "code",
   "execution_count": 1,
   "id": "9e0a083b-fc05-4136-bf44-c0d973e3b104",
   "metadata": {
    "execution": {
     "iopub.execute_input": "2022-08-24T20:17:30.059365Z",
     "iopub.status.busy": "2022-08-24T20:17:30.058994Z",
     "iopub.status.idle": "2022-08-24T20:17:30.068776Z",
     "shell.execute_reply": "2022-08-24T20:17:30.067891Z"
    }
   },
   "outputs": [
    {
     "name": "stdout",
     "output_type": "stream",
     "text": [
      "3.9.13 | packaged by conda-forge | (main, May 27 2022, 16:56:21) \n",
      "[GCC 10.3.0]\n",
      "/root/mambaforge/bin/python\n"
     ]
    }
   ],
   "source": [
    "import sys\n",
    "print(sys.version)\n",
    "print(sys.executable)"
   ]
  },
  {
   "cell_type": "markdown",
   "id": "9b0745d3-4203-479f-ab4b-e64c7c2571b7",
   "metadata": {},
   "source": [
    "## PyTorch\n",
    "Basic + GPU"
   ]
  },
  {
   "cell_type": "code",
   "execution_count": null,
   "id": "4b809613-3fb4-4cd9-98f6-3037c9fd1ddd",
   "metadata": {},
   "outputs": [],
   "source": [
    "import torch\n",
    "\n",
    "print(torch.__version__)\n",
    "\n",
    "# GPU/CUDA\n",
    "\n",
    "print(torch.cuda.is_available()) # Should print True on GPU machine\n",
    "print(torch.cuda.device_count()) # E.g., 1 for 1 GPU\n",
    "print(torch.cuda.current_device()) # E.g., 0\n",
    "print(torch.cuda.get_device_name()) # E.g., 'NVIDIA Quadro P4000'"
   ]
  },
  {
   "cell_type": "markdown",
   "id": "7445b6ee-c452-4228-aa06-df209a97f0bf",
   "metadata": {},
   "source": [
    "Torch audio & vision"
   ]
  },
  {
   "cell_type": "code",
   "execution_count": null,
   "id": "63b38961-f180-44e3-9bca-2bc7ce7f3c0c",
   "metadata": {},
   "outputs": [],
   "source": [
    "import torchvision\n",
    "import torchaudio\n",
    "\n",
    "print(torchvision.__version__)\n",
    "print(torchaudio.__version__)"
   ]
  },
  {
   "cell_type": "code",
   "execution_count": 2,
   "id": "fc7d4808-0654-4eb4-b404-3d2cf3971634",
   "metadata": {
    "collapsed": true,
    "execution": {
     "iopub.execute_input": "2022-08-24T20:17:30.072968Z",
     "iopub.status.busy": "2022-08-24T20:17:30.072694Z",
     "iopub.status.idle": "2022-08-24T20:17:32.243279Z",
     "shell.execute_reply": "2022-08-24T20:17:32.242403Z"
    },
    "jupyter": {
     "outputs_hidden": true
    }
   },
   "outputs": [
    {
     "ename": "ModuleNotFoundError",
     "evalue": "No module named 'torchaudio'",
     "output_type": "error",
     "traceback": [
      "\u001b[0;31m---------------------------------------------------------------------------\u001b[0m",
      "\u001b[0;31mModuleNotFoundError\u001b[0m                       Traceback (most recent call last)",
      "Input \u001b[0;32mIn [2]\u001b[0m, in \u001b[0;36m<cell line: 4>\u001b[0;34m()\u001b[0m\n\u001b[1;32m      2\u001b[0m \u001b[38;5;28;01mimport\u001b[39;00m \u001b[38;5;21;01mtorch\u001b[39;00m\n\u001b[1;32m      3\u001b[0m \u001b[38;5;28;01mimport\u001b[39;00m \u001b[38;5;21;01mtorchvision\u001b[39;00m\n\u001b[0;32m----> 4\u001b[0m \u001b[38;5;28;01mimport\u001b[39;00m \u001b[38;5;21;01mtorchaudio\u001b[39;00m\n\u001b[1;32m      6\u001b[0m \u001b[38;5;28mprint\u001b[39m(torch\u001b[38;5;241m.\u001b[39m__version__)\n\u001b[1;32m      7\u001b[0m \u001b[38;5;28mprint\u001b[39m(torchvision\u001b[38;5;241m.\u001b[39m__version__)\n",
      "\u001b[0;31mModuleNotFoundError\u001b[0m: No module named 'torchaudio'"
     ]
    }
   ],
   "source": [
    "# PyTorch on base image\n",
    "#import torch\n",
    "#import torchvision\n",
    "#import torchaudio\n",
    "\n",
    "#print(torch.__version__)\n",
    "#print(torchvision.__version__)\n",
    "#print(torchaudio.__version__)\n",
    "\n",
    "#print(torch.cuda.is_available()) # Should print True on GPU machine\n",
    "\n",
    "#print(torch.cuda.device_count()) # E.g., 1 for 1 GPU\n",
    "#print(torch.cuda.current_device()) # E.g., 0\n",
    "#print(torch.cuda.get_device_name()) # E.g., 'NVIDIA Quadro P4000'"
   ]
  },
  {
   "cell_type": "markdown",
   "id": "1e6eae3d-a93a-41a4-b1d0-5d28733735d5",
   "metadata": {},
   "source": [
    "## TensorFlow 2"
   ]
  },
  {
   "cell_type": "code",
   "execution_count": 3,
   "id": "4d910d68-9eff-4769-a12b-36b8eb5fae32",
   "metadata": {
    "collapsed": true,
    "execution": {
     "iopub.execute_input": "2022-08-24T20:17:32.250648Z",
     "iopub.status.busy": "2022-08-24T20:17:32.248648Z",
     "iopub.status.idle": "2022-08-24T20:17:32.275783Z",
     "shell.execute_reply": "2022-08-24T20:17:32.274775Z"
    },
    "jupyter": {
     "outputs_hidden": true
    }
   },
   "outputs": [
    {
     "ename": "ModuleNotFoundError",
     "evalue": "No module named 'tensorflow'",
     "output_type": "error",
     "traceback": [
      "\u001b[0;31m---------------------------------------------------------------------------\u001b[0m",
      "\u001b[0;31mModuleNotFoundError\u001b[0m                       Traceback (most recent call last)",
      "Input \u001b[0;32mIn [3]\u001b[0m, in \u001b[0;36m<cell line: 2>\u001b[0;34m()\u001b[0m\n\u001b[1;32m      1\u001b[0m \u001b[38;5;66;03m# TensorFlow on base image\u001b[39;00m\n\u001b[0;32m----> 2\u001b[0m \u001b[38;5;28;01mimport\u001b[39;00m \u001b[38;5;21;01mtensorflow\u001b[39;00m \u001b[38;5;28;01mas\u001b[39;00m \u001b[38;5;21;01mtf\u001b[39;00m\n\u001b[1;32m      4\u001b[0m \u001b[38;5;66;03m# Working with CPU\u001b[39;00m\n\u001b[1;32m      5\u001b[0m \u001b[38;5;66;03m# (From https://www.tensorflow.org/install/pip)\u001b[39;00m\n\u001b[1;32m      6\u001b[0m \u001b[38;5;28mprint\u001b[39m(tf\u001b[38;5;241m.\u001b[39mreduce_sum(tf\u001b[38;5;241m.\u001b[39mrandom\u001b[38;5;241m.\u001b[39mnormal([\u001b[38;5;241m1000\u001b[39m, \u001b[38;5;241m1000\u001b[39m])))\n",
      "\u001b[0;31mModuleNotFoundError\u001b[0m: No module named 'tensorflow'"
     ]
    }
   ],
   "source": [
    "import tensorflow as tf\n",
    "\n",
    "# Working with CPU\n",
    "# (From https://www.tensorflow.org/install/pip)\n",
    "\n",
    "print(tf.reduce_sum(tf.random.normal([1000, 1000])))\n",
    "\n",
    "# Sees GPU(s)\n",
    "\n",
    "tf.config.list_physical_devices('GPU')"
   ]
  }
 ],
 "metadata": {
  "kernelspec": {
   "display_name": "Python 3 (ipykernel)",
   "language": "python",
   "name": "python3"
  },
  "language_info": {
   "codemirror_mode": {
    "name": "ipython",
    "version": 3
   },
   "file_extension": ".py",
   "mimetype": "text/x-python",
   "name": "python",
   "nbconvert_exporter": "python",
   "pygments_lexer": "ipython3",
   "version": "3.9.13"
  }
 },
 "nbformat": 4,
 "nbformat_minor": 5
}
